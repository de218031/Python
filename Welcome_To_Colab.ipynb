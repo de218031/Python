{
  "cells": [
    {
      "cell_type": "markdown",
      "metadata": {
        "id": "view-in-github",
        "colab_type": "text"
      },
      "source": [
        "<a href=\"https://colab.research.google.com/github/de218031/Python/blob/main/Welcome_To_Colab.ipynb\" target=\"_parent\"><img src=\"https://colab.research.google.com/assets/colab-badge.svg\" alt=\"Open In Colab\"/></a>"
      ]
    },
    {
      "cell_type": "code",
      "execution_count": 2,
      "metadata": {
        "id": "C4HZx7Gndbrh"
      },
      "outputs": [],
      "source": [
        "import warnings\n",
        "import numpy as np\n",
        "import pandas as pd\n",
        "\n",
        "#plotting modules\n",
        "import seaborn as sns\n",
        "from matplotlib import pyplot as plt\n",
        "\n",
        "from sklearn import preprocessing\n",
        "from sklearn.preprocessing import LabelEncoder\n",
        "from sklearn.preprocessing import StandardScaler\n",
        "from sklearn.model_selection import train_test_split\n",
        "\n",
        "#classification modules\n",
        "from sklearn import svm\n",
        "from sklearn.ensemble import RandomForestClassifier\n",
        "from sklearn.ensemble import GradientBoostingClassifier\n",
        "from sklearn.neighbors import KNeighborsClassifier\n",
        "from sklearn.tree import DecisionTreeClassifier\n",
        "from sklearn.naive_bayes import GaussianNB\n",
        "\n",
        "\n",
        "#import performance scores\n",
        "from sklearn.metrics import accuracy_score\n",
        "from sklearn.metrics import confusion_matrix\n",
        "from sklearn.metrics import precision_score\n",
        "from sklearn.metrics import recall_score\n",
        "from sklearn.metrics import f1_score"
      ]
    },
    {
      "cell_type": "code",
      "source": [
        "warnings.filterwarnings('ignore')"
      ],
      "metadata": {
        "id": "Q-Zc4pKfYpNN"
      },
      "execution_count": 3,
      "outputs": []
    },
    {
      "cell_type": "code",
      "source": [
        "def missing_value_check(dataset):\n",
        "    # columns that have null values greater than 5% -> It gives percentage\n",
        "    percent_missing = dataset.isnull().sum() * 100 / len(dataset)\n",
        "    # no of missing\n",
        "    num_missing = dataset.isnull().sum()\n",
        "    # sorting values in descending order\n",
        "    percent_missing = percent_missing.sort_values(ascending=False)\n",
        "    # inserting in percentages into new dataframe\n",
        "    missing_value_df = pd.DataFrame({'percent_missing': percent_missing, 'Num_missing_val': num_missing})\n",
        "    # Sorting values in ascending order\n",
        "    missing_value_df = missing_value_df.sort_values(by=['percent_missing'], ascending=False)\n",
        "\n",
        "    return missing_value_df, percent_missing\n",
        "\n",
        "\n",
        "# create a function to find outliers using IQR\n",
        "def detecting_outliers(dataset):\n",
        "    q1 = dataset.quantile(0.25)\n",
        "    q3 = dataset.quantile(0.75)\n",
        "    IQR = q3 - q1\n",
        "    upperlimit = dataset < (q1 - 1.5 * IQR)\n",
        "    lowerlimit = dataset > (q3 + 1.5 * IQR)\n",
        "    outliers = dataset[upperlimit | lowerlimit]\n",
        "\n",
        "    return outliers, upperlimit, lowerlimit\n",
        "\n",
        "\n",
        "# with the following function we can select highly correlated features\n",
        "# it will remove the first feature that is correlated with anything other feature\n",
        "def correlation(dataset, threshold):\n",
        "    col_corr = set()  # Set of all the names of correlated columns\n",
        "    corr_matrix = dataset.corr()\n",
        "    for i in range(len(corr_matrix.columns)):\n",
        "        for j in range(i):\n",
        "            if abs(corr_matrix.iloc[i, j]) > threshold:  # we are interested in absolute coeff value\n",
        "                colname = corr_matrix.columns[i]  # getting the name of column\n",
        "                col_corr.add(colname)\n",
        "    return col_corr\n"
      ],
      "metadata": {
        "id": "Gd9I43BdZZ8M"
      },
      "execution_count": 4,
      "outputs": []
    }
  ],
  "metadata": {
    "colab": {
      "name": "Welcome To Colab",
      "provenance": [],
      "include_colab_link": true
    },
    "kernelspec": {
      "display_name": "Python 3",
      "name": "python3"
    }
  },
  "nbformat": 4,
  "nbformat_minor": 0
}